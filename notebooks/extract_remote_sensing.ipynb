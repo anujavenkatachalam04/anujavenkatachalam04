{
  "nbformat": 4,
  "nbformat_minor": 0,
  "metadata": {
    "colab": {
      "provenance": [],
      "authorship_tag": "ABX9TyONlbg6mMYxoJVcU0B1DQUr",
      "include_colab_link": true
    },
    "kernelspec": {
      "name": "python3",
      "display_name": "Python 3"
    },
    "language_info": {
      "name": "python"
    }
  },
  "cells": [
    {
      "cell_type": "markdown",
      "metadata": {
        "id": "view-in-github",
        "colab_type": "text"
      },
      "source": [
        "<a href=\"https://colab.research.google.com/github/anujavenkatachalam04/anujavenkatachalam04/blob/main/notebooks/extract_remote_sensing.ipynb\" target=\"_parent\"><img src=\"https://colab.research.google.com/assets/colab-badge.svg\" alt=\"Open In Colab\"/></a>"
      ]
    },
    {
      "cell_type": "markdown",
      "source": [
        "# Extract remote sensing data - NDVI, NDWI, NDBI from sentinel 2"
      ],
      "metadata": {
        "id": "U48kiMEyc3O9"
      }
    },
    {
      "cell_type": "code",
      "source": [
        "# # import dependencies\n",
        "# !pip install -r https://raw.githubusercontent.com/anujavenkatachalam04/chvi_vbd_rj/main/requirements.txt"
      ],
      "metadata": {
        "id": "hEEgtnCBc_q7"
      },
      "execution_count": null,
      "outputs": []
    },
    {
      "cell_type": "code",
      "source": [
        "import os\n",
        "import pandas as pd\n",
        "import geopandas as gpd\n",
        "import requests\n",
        "from tqdm import tqdm\n",
        "import numpy as np\n",
        "import matplotlib.pyplot as plt\n",
        "import seaborn as sns\n",
        "from google.colab import drive\n",
        "drive.mount('/content/drive')\n",
        "import uuid\n",
        "import ee\n",
        "from concurrent.futures import ThreadPoolExecutor, as_completed\n",
        ""
      ],
      "metadata": {
        "colab": {
          "base_uri": "https://localhost:8080/"
        },
        "id": "wLcjuNhDdJr5",
        "outputId": "4ee468ae-61bb-4359-b010-997245687f6e"
      },
      "execution_count": 1,
      "outputs": [
        {
          "output_type": "stream",
          "name": "stdout",
          "text": [
            "Mounted at /content/drive\n"
          ]
        }
      ]
    },
    {
      "cell_type": "code",
      "source": [
        "os.chdir(\"/content/drive/MyDrive/CHVI\")"
      ],
      "metadata": {
        "id": "K1HKdlI6d9N5"
      },
      "execution_count": 7,
      "outputs": []
    },
    {
      "cell_type": "code",
      "source": [
        "# --- Initialize Earth Engine ---\n",
        "# ee.Authenticate()\n",
        "# ee.Initialize()"
      ],
      "metadata": {
        "id": "wZiPUhV8dZ27"
      },
      "execution_count": 4,
      "outputs": []
    },
    {
      "cell_type": "code",
      "source": [
        "# --- Paths ---\n",
        "grid_path = \"5_Shapefiles/Rajasthan_10kmx10km_grid.geojson\"\n",
        "output_folder = \"1_Data/Remote_Sensing/Raw\"\n",
        "os.makedirs(output_folder, exist_ok=True)"
      ],
      "metadata": {
        "id": "FTZyxXJZd3jV"
      },
      "execution_count": 8,
      "outputs": []
    },
    {
      "cell_type": "code",
      "source": [
        "# Import 10kmx10km grid\n",
        "grid = gpd.read_file(grid_path)"
      ],
      "metadata": {
        "id": "OOtOP_Szd62i"
      },
      "execution_count": 9,
      "outputs": []
    },
    {
      "cell_type": "code",
      "source": [
        "grid.crs"
      ],
      "metadata": {
        "colab": {
          "base_uri": "https://localhost:8080/"
        },
        "id": "tb_OzhnjeJuf",
        "outputId": "1112f3b4-d012-4384-95f2-9e1803b6a5f4"
      },
      "execution_count": 12,
      "outputs": [
        {
          "output_type": "execute_result",
          "data": {
            "text/plain": [
              "<Geographic 2D CRS: EPSG:4326>\n",
              "Name: WGS 84\n",
              "Axis Info [ellipsoidal]:\n",
              "- Lat[north]: Geodetic latitude (degree)\n",
              "- Lon[east]: Geodetic longitude (degree)\n",
              "Area of Use:\n",
              "- name: World.\n",
              "- bounds: (-180.0, -90.0, 180.0, 90.0)\n",
              "Datum: World Geodetic System 1984 ensemble\n",
              "- Ellipsoid: WGS 84\n",
              "- Prime Meridian: Greenwich"
            ]
          },
          "metadata": {},
          "execution_count": 12
        }
      ]
    },
    {
      "cell_type": "code",
      "source": [
        "grid[\"grid_id\"] = grid.index + 1  # unique ID"
      ],
      "metadata": {
        "id": "okDpPyJweK9X"
      },
      "execution_count": 13,
      "outputs": []
    },
    {
      "cell_type": "code",
      "source": [
        "# --- Define monthly range ---\n",
        "start_date = \"2024-01-01\"\n",
        "end_date   = \"2025-09-30\"\n",
        "date_range = pd.date_range(start=start_date, end=end_date, freq=\"M\")"
      ],
      "metadata": {
        "colab": {
          "base_uri": "https://localhost:8080/"
        },
        "id": "JtxRWhu0eR7f",
        "outputId": "6c000931-8b8e-4776-e0c3-034adcd2a087"
      },
      "execution_count": 14,
      "outputs": [
        {
          "output_type": "stream",
          "name": "stderr",
          "text": [
            "/tmp/ipython-input-3492290752.py:4: FutureWarning: 'M' is deprecated and will be removed in a future version, please use 'ME' instead.\n",
            "  date_range = pd.date_range(start=start_date, end=end_date, freq=\"M\")\n"
          ]
        }
      ]
    },
    {
      "cell_type": "code",
      "source": [
        "date_range"
      ],
      "metadata": {
        "colab": {
          "base_uri": "https://localhost:8080/"
        },
        "id": "LeCr09xFeZyD",
        "outputId": "71982970-a693-4f52-fd17-8e4adbc96d42"
      },
      "execution_count": 15,
      "outputs": [
        {
          "output_type": "execute_result",
          "data": {
            "text/plain": [
              "DatetimeIndex(['2024-01-31', '2024-02-29', '2024-03-31', '2024-04-30',\n",
              "               '2024-05-31', '2024-06-30', '2024-07-31', '2024-08-31',\n",
              "               '2024-09-30', '2024-10-31', '2024-11-30', '2024-12-31',\n",
              "               '2025-01-31', '2025-02-28', '2025-03-31', '2025-04-30',\n",
              "               '2025-05-31', '2025-06-30', '2025-07-31', '2025-08-31',\n",
              "               '2025-09-30'],\n",
              "              dtype='datetime64[ns]', freq='ME')"
            ]
          },
          "metadata": {},
          "execution_count": 15
        }
      ]
    },
    {
      "cell_type": "markdown",
      "source": [
        "# NDVI - B8, B4"
      ],
      "metadata": {
        "id": "kHP88tQeiUBq"
      }
    },
    {
      "cell_type": "code",
      "source": [
        "# --- NDVI helper for one feature ---\n",
        "def get_ndvi_for_feature(row, ee_start_date):\n",
        "    geom = ee.Geometry.Polygon(row.geometry.__geo_interface__[\"coordinates\"])\n",
        "    s2 = (ee.ImageCollection(\"COPERNICUS/S2_SR\")\n",
        "          .filterDate(ee_start_date, ee_start_date.advance(1, \"month\"))\n",
        "          .filterBounds(geom)\n",
        "          .filter(ee.Filter.lt(\"CLOUDY_PIXEL_PERCENTAGE\", 20))\n",
        "          .map(lambda img: img.normalizedDifference([\"B8\", \"B4\"]).rename(\"NDVI\")))\n",
        "    ndvi_img = s2.mean()\n",
        "    try:\n",
        "        ndvi_val = ndvi_img.reduceRegion(\n",
        "            reducer=ee.Reducer.mean(),\n",
        "            geometry=geom,\n",
        "            scale=10\n",
        "        ).getInfo().get(\"NDVI\", None)\n",
        "    except Exception:\n",
        "        ndvi_val = None\n",
        "    return {\n",
        "        \"grid_id\": row[\"grid_id\"],\n",
        "        \"NDVI\": ndvi_val\n",
        "    }\n",
        "\n",
        "# --- Process one month ---\n",
        "def process_month(current_date):\n",
        "    ee_start_date = ee.Date(current_date.strftime(\"%Y-%m-%d\"))\n",
        "    results = []\n",
        "\n",
        "    # Parallel execution (I/O bound: Earth Engine calls)\n",
        "    with ThreadPoolExecutor(max_workers=10) as executor:\n",
        "        futures = {\n",
        "            executor.submit(get_ndvi_for_feature, row, ee_start_date): idx\n",
        "            for idx, row in grid.iterrows()\n",
        "        }\n",
        "        for f in tqdm(as_completed(futures), total=len(futures),\n",
        "                      desc=f\"Processing {current_date.strftime('%Y-%m')}\"):\n",
        "            results.append(f.result())\n",
        "\n",
        "    # Collect results\n",
        "    df = pd.DataFrame(results)\n",
        "    df[\"Date\"] = current_date\n",
        "    output_path = f\"{output_folder}/ndvi_{current_date.strftime('%Y-%m')}.csv\"\n",
        "    df.to_csv(output_path, index=False)\n",
        "    print(f\"Saved NDVI data for {current_date.strftime('%Y-%m')} → {output_path}\")\n",
        "\n",
        "# --- Run monthly loop ---\n",
        "for dt in date_range:\n",
        "    process_month(dt)\n",
        "\n",
        "print(\"All NDVI files generated successfully.\")\n"
      ],
      "metadata": {
        "id": "24-lMHZtc5vB"
      },
      "execution_count": 17,
      "outputs": []
    },
    {
      "cell_type": "markdown",
      "source": [
        "# NDWI - B3, B8"
      ],
      "metadata": {
        "id": "9zZgouAnibYs"
      }
    },
    {
      "cell_type": "code",
      "source": [
        "# --- NDWI helper for one feature ---\n",
        "def get_ndwi_for_feature(row, ee_start_date):\n",
        "    geom = ee.Geometry.Polygon(row.geometry.__geo_interface__[\"coordinates\"])\n",
        "    s2 = (\n",
        "        ee.ImageCollection(\"COPERNICUS/S2_SR\")\n",
        "        .filterDate(ee_start_date, ee_start_date.advance(1, \"month\"))\n",
        "        .filterBounds(geom)\n",
        "        .filter(ee.Filter.lt(\"CLOUDY_PIXEL_PERCENTAGE\", 20))\n",
        "        .map(lambda img: img.normalizedDifference([\"B3\", \"B8\"]).rename(\"NDWI\"))\n",
        "    )\n",
        "    ndwi_img = s2.mean()\n",
        "    try:\n",
        "        ndwi_val = (\n",
        "            ndwi_img.reduceRegion(\n",
        "                reducer=ee.Reducer.mean(),\n",
        "                geometry=geom,\n",
        "                scale=10\n",
        "            ).getInfo().get(\"NDWI\", None)\n",
        "        )\n",
        "    except Exception:\n",
        "        ndwi_val = None\n",
        "    return {\"grid_id\": row[\"grid_id\"], \"NDWI\": ndwi_val}\n",
        "\n",
        "# --- Process one month ---\n",
        "def process_month_ndwi(current_date):\n",
        "    ee_start_date = ee.Date(current_date.strftime(\"%Y-%m-%d\"))\n",
        "    results = []\n",
        "\n",
        "    with ThreadPoolExecutor(max_workers=10) as executor:\n",
        "        futures = {\n",
        "            executor.submit(get_ndwi_for_feature, row, ee_start_date): idx\n",
        "            for idx, row in grid.iterrows()\n",
        "        }\n",
        "        for f in tqdm(as_completed(futures), total=len(futures),\n",
        "                      desc=f\"NDWI {current_date.strftime('%Y-%m')}\"):\n",
        "            results.append(f.result())\n",
        "\n",
        "    df = pd.DataFrame(results)\n",
        "    df[\"Date\"] = current_date\n",
        "    output_path = f\"{output_folder}/ndwi_{current_date.strftime('%Y-%m')}.csv\"\n",
        "    df.to_csv(output_path, index=False)\n",
        "    print(f\"Saved NDWI data for {current_date.strftime('%Y-%m')} → {output_path}\")\n",
        "\n",
        "# --- Run monthly loop ---\n",
        "for dt in date_range:\n",
        "    process_month_ndwi(dt)\n",
        "\n",
        "print(\"All NDWI files generated successfully.\")\n"
      ],
      "metadata": {
        "id": "a9blQLg_e_A3"
      },
      "execution_count": null,
      "outputs": []
    },
    {
      "cell_type": "markdown",
      "source": [
        "# NDBI - B11, B8"
      ],
      "metadata": {
        "id": "W3_5WyerivmC"
      }
    },
    {
      "cell_type": "code",
      "source": [
        "# --- NDBI helper for one feature ---\n",
        "def get_ndbi_for_feature(row, ee_start_date):\n",
        "    geom = ee.Geometry.Polygon(row.geometry.__geo_interface__[\"coordinates\"])\n",
        "    s2 = (\n",
        "        ee.ImageCollection(\"COPERNICUS/S2_SR\")\n",
        "        .filterDate(ee_start_date, ee_start_date.advance(1, \"month\"))\n",
        "        .filterBounds(geom)\n",
        "        .filter(ee.Filter.lt(\"CLOUDY_PIXEL_PERCENTAGE\", 20))\n",
        "        .map(lambda img: img.normalizedDifference([\"B11\", \"B8\"]).rename(\"NDBI\"))\n",
        "    )\n",
        "    ndbi_img = s2.mean()\n",
        "    try:\n",
        "        ndbi_val = (\n",
        "            ndbi_img.reduceRegion(\n",
        "                reducer=ee.Reducer.mean(),\n",
        "                geometry=geom,\n",
        "                scale=10\n",
        "            ).getInfo().get(\"NDBI\", None)\n",
        "        )\n",
        "    except Exception:\n",
        "        ndbi_val = None\n",
        "    return {\"grid_id\": row[\"grid_id\"], \"NDBI\": ndbi_val}\n",
        "\n",
        "# --- Process one month ---\n",
        "def process_month_ndbi(current_date):\n",
        "    ee_start_date = ee.Date(current_date.strftime(\"%Y-%m-%d\"))\n",
        "    results = []\n",
        "\n",
        "    with ThreadPoolExecutor(max_workers=10) as executor:\n",
        "        futures = {\n",
        "            executor.submit(get_ndbi_for_feature, row, ee_start_date): idx\n",
        "            for idx, row in grid.iterrows()\n",
        "        }\n",
        "        for f in tqdm(as_completed(futures), total=len(futures),\n",
        "                      desc=f\"NDBI {current_date.strftime('%Y-%m')}\"):\n",
        "            results.append(f.result())\n",
        "\n",
        "    df = pd.DataFrame(results)\n",
        "    df[\"Date\"] = current_date\n",
        "    output_path = f\"{output_folder}/ndbi_{current_date.strftime('%Y-%m')}.csv\"\n",
        "    df.to_csv(output_path, index=False)\n",
        "    print(f\"Saved NDBI data for {current_date.strftime('%Y-%m')} → {output_path}\")\n",
        "\n",
        "# --- Run monthly loop ---\n",
        "for dt in date_range:\n",
        "    process_month_ndbi(dt)\n",
        "\n",
        "print(\"All NDBI files generated successfully.\")\n"
      ],
      "metadata": {
        "id": "BHN7Fz0UiwZh"
      },
      "execution_count": null,
      "outputs": []
    }
  ]
}